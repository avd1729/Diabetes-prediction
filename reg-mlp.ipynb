{
 "cells": [
  {
   "cell_type": "markdown",
   "id": "c667a788",
   "metadata": {
    "papermill": {
     "duration": 0.004459,
     "end_time": "2023-06-10T15:26:18.509470",
     "exception": false,
     "start_time": "2023-06-10T15:26:18.505011",
     "status": "completed"
    },
    "tags": []
   },
   "source": [
    "# **Regression MLP using Sequential API**"
   ]
  },
  {
   "cell_type": "markdown",
   "id": "262a4edf",
   "metadata": {
    "papermill": {
     "duration": 0.003692,
     "end_time": "2023-06-10T15:26:18.517378",
     "exception": false,
     "start_time": "2023-06-10T15:26:18.513686",
     "status": "completed"
    },
    "tags": []
   },
   "source": [
    "# **Setting up the environment**"
   ]
  },
  {
   "cell_type": "code",
   "execution_count": 1,
   "id": "b8bc94a9",
   "metadata": {
    "execution": {
     "iopub.execute_input": "2023-06-10T15:26:18.527595Z",
     "iopub.status.busy": "2023-06-10T15:26:18.527162Z",
     "iopub.status.idle": "2023-06-10T15:26:18.539326Z",
     "shell.execute_reply": "2023-06-10T15:26:18.538613Z"
    },
    "papermill": {
     "duration": 0.020517,
     "end_time": "2023-06-10T15:26:18.541696",
     "exception": false,
     "start_time": "2023-06-10T15:26:18.521179",
     "status": "completed"
    },
    "tags": []
   },
   "outputs": [],
   "source": [
    "import numpy as np\n",
    "import pandas as pd\n",
    "import matplotlib.pyplot as plt\n",
    "%matplotlib inline\n",
    "import warnings\n",
    "warnings.filterwarnings(\"ignore\")"
   ]
  },
  {
   "cell_type": "code",
   "execution_count": 2,
   "id": "3acee41c",
   "metadata": {
    "execution": {
     "iopub.execute_input": "2023-06-10T15:26:18.551815Z",
     "iopub.status.busy": "2023-06-10T15:26:18.551392Z",
     "iopub.status.idle": "2023-06-10T15:26:20.035910Z",
     "shell.execute_reply": "2023-06-10T15:26:20.034585Z"
    },
    "papermill": {
     "duration": 1.492691,
     "end_time": "2023-06-10T15:26:20.038589",
     "exception": false,
     "start_time": "2023-06-10T15:26:18.545898",
     "status": "completed"
    },
    "tags": []
   },
   "outputs": [],
   "source": [
    "from sklearn.datasets import load_diabetes\n",
    "data = load_diabetes()"
   ]
  },
  {
   "cell_type": "code",
   "execution_count": 3,
   "id": "03261511",
   "metadata": {
    "execution": {
     "iopub.execute_input": "2023-06-10T15:26:20.048183Z",
     "iopub.status.busy": "2023-06-10T15:26:20.047815Z",
     "iopub.status.idle": "2023-06-10T15:26:20.057655Z",
     "shell.execute_reply": "2023-06-10T15:26:20.055810Z"
    },
    "papermill": {
     "duration": 0.017698,
     "end_time": "2023-06-10T15:26:20.060242",
     "exception": false,
     "start_time": "2023-06-10T15:26:20.042544",
     "status": "completed"
    },
    "tags": []
   },
   "outputs": [
    {
     "data": {
      "text/plain": [
       "dict_keys(['data', 'target', 'frame', 'DESCR', 'feature_names', 'data_filename', 'target_filename', 'data_module'])"
      ]
     },
     "execution_count": 3,
     "metadata": {},
     "output_type": "execute_result"
    }
   ],
   "source": [
    "data.keys()"
   ]
  },
  {
   "cell_type": "code",
   "execution_count": 4,
   "id": "19f577d4",
   "metadata": {
    "execution": {
     "iopub.execute_input": "2023-06-10T15:26:20.070094Z",
     "iopub.status.busy": "2023-06-10T15:26:20.069732Z",
     "iopub.status.idle": "2023-06-10T15:26:20.074860Z",
     "shell.execute_reply": "2023-06-10T15:26:20.074027Z"
    },
    "papermill": {
     "duration": 0.012719,
     "end_time": "2023-06-10T15:26:20.077128",
     "exception": false,
     "start_time": "2023-06-10T15:26:20.064409",
     "status": "completed"
    },
    "tags": []
   },
   "outputs": [
    {
     "name": "stdout",
     "output_type": "stream",
     "text": [
      ".. _diabetes_dataset:\n",
      "\n",
      "Diabetes dataset\n",
      "----------------\n",
      "\n",
      "Ten baseline variables, age, sex, body mass index, average blood\n",
      "pressure, and six blood serum measurements were obtained for each of n =\n",
      "442 diabetes patients, as well as the response of interest, a\n",
      "quantitative measure of disease progression one year after baseline.\n",
      "\n",
      "**Data Set Characteristics:**\n",
      "\n",
      "  :Number of Instances: 442\n",
      "\n",
      "  :Number of Attributes: First 10 columns are numeric predictive values\n",
      "\n",
      "  :Target: Column 11 is a quantitative measure of disease progression one year after baseline\n",
      "\n",
      "  :Attribute Information:\n",
      "      - age     age in years\n",
      "      - sex\n",
      "      - bmi     body mass index\n",
      "      - bp      average blood pressure\n",
      "      - s1      tc, total serum cholesterol\n",
      "      - s2      ldl, low-density lipoproteins\n",
      "      - s3      hdl, high-density lipoproteins\n",
      "      - s4      tch, total cholesterol / HDL\n",
      "      - s5      ltg, possibly log of serum triglycerides level\n",
      "      - s6      glu, blood sugar level\n",
      "\n",
      "Note: Each of these 10 feature variables have been mean centered and scaled by the standard deviation times the square root of `n_samples` (i.e. the sum of squares of each column totals 1).\n",
      "\n",
      "Source URL:\n",
      "https://www4.stat.ncsu.edu/~boos/var.select/diabetes.html\n",
      "\n",
      "For more information see:\n",
      "Bradley Efron, Trevor Hastie, Iain Johnstone and Robert Tibshirani (2004) \"Least Angle Regression,\" Annals of Statistics (with discussion), 407-499.\n",
      "(https://web.stanford.edu/~hastie/Papers/LARS/LeastAngle_2002.pdf)\n",
      "\n"
     ]
    }
   ],
   "source": [
    "print(data.DESCR)"
   ]
  },
  {
   "cell_type": "code",
   "execution_count": 5,
   "id": "996b79be",
   "metadata": {
    "execution": {
     "iopub.execute_input": "2023-06-10T15:26:20.089966Z",
     "iopub.status.busy": "2023-06-10T15:26:20.089533Z",
     "iopub.status.idle": "2023-06-10T15:26:20.094631Z",
     "shell.execute_reply": "2023-06-10T15:26:20.093762Z"
    },
    "papermill": {
     "duration": 0.013219,
     "end_time": "2023-06-10T15:26:20.096968",
     "exception": false,
     "start_time": "2023-06-10T15:26:20.083749",
     "status": "completed"
    },
    "tags": []
   },
   "outputs": [],
   "source": [
    "X = data.data\n",
    "y = data.target"
   ]
  },
  {
   "cell_type": "code",
   "execution_count": 6,
   "id": "e6b19330",
   "metadata": {
    "execution": {
     "iopub.execute_input": "2023-06-10T15:26:20.107378Z",
     "iopub.status.busy": "2023-06-10T15:26:20.107033Z",
     "iopub.status.idle": "2023-06-10T15:26:20.224905Z",
     "shell.execute_reply": "2023-06-10T15:26:20.223100Z"
    },
    "papermill": {
     "duration": 0.12601,
     "end_time": "2023-06-10T15:26:20.227338",
     "exception": false,
     "start_time": "2023-06-10T15:26:20.101328",
     "status": "completed"
    },
    "tags": []
   },
   "outputs": [],
   "source": [
    "from sklearn.model_selection import train_test_split\n",
    "X_train_full , X_test , y_train_full , y_test = train_test_split(X , y , random_state=42)\n",
    "X_train , X_valid , y_train , y_valid = train_test_split(X_train_full ,y_train_full , random_state=42)"
   ]
  },
  {
   "cell_type": "code",
   "execution_count": 7,
   "id": "3435eaec",
   "metadata": {
    "execution": {
     "iopub.execute_input": "2023-06-10T15:26:20.237198Z",
     "iopub.status.busy": "2023-06-10T15:26:20.236827Z",
     "iopub.status.idle": "2023-06-10T15:26:20.242635Z",
     "shell.execute_reply": "2023-06-10T15:26:20.241690Z"
    },
    "papermill": {
     "duration": 0.013115,
     "end_time": "2023-06-10T15:26:20.244792",
     "exception": false,
     "start_time": "2023-06-10T15:26:20.231677",
     "status": "completed"
    },
    "tags": []
   },
   "outputs": [
    {
     "data": {
      "text/plain": [
       "['age', 'sex', 'bmi', 'bp', 's1', 's2', 's3', 's4', 's5', 's6']"
      ]
     },
     "execution_count": 7,
     "metadata": {},
     "output_type": "execute_result"
    }
   ],
   "source": [
    "data.feature_names"
   ]
  },
  {
   "cell_type": "markdown",
   "id": "fc9da2c8",
   "metadata": {
    "papermill": {
     "duration": 0.004091,
     "end_time": "2023-06-10T15:26:20.253410",
     "exception": false,
     "start_time": "2023-06-10T15:26:20.249319",
     "status": "completed"
    },
    "tags": []
   },
   "source": [
    "# **MLP**"
   ]
  },
  {
   "cell_type": "code",
   "execution_count": 8,
   "id": "c95aa604",
   "metadata": {
    "execution": {
     "iopub.execute_input": "2023-06-10T15:26:20.264151Z",
     "iopub.status.busy": "2023-06-10T15:26:20.263454Z",
     "iopub.status.idle": "2023-06-10T15:26:29.408189Z",
     "shell.execute_reply": "2023-06-10T15:26:29.406767Z"
    },
    "papermill": {
     "duration": 9.153191,
     "end_time": "2023-06-10T15:26:29.410988",
     "exception": false,
     "start_time": "2023-06-10T15:26:20.257797",
     "status": "completed"
    },
    "tags": []
   },
   "outputs": [],
   "source": [
    "import tensorflow as tf\n",
    "tf.random.set_seed(42)"
   ]
  },
  {
   "cell_type": "code",
   "execution_count": 9,
   "id": "020600da",
   "metadata": {
    "execution": {
     "iopub.execute_input": "2023-06-10T15:26:29.422331Z",
     "iopub.status.busy": "2023-06-10T15:26:29.421507Z",
     "iopub.status.idle": "2023-06-10T15:26:29.650016Z",
     "shell.execute_reply": "2023-06-10T15:26:29.648756Z"
    },
    "papermill": {
     "duration": 0.2372,
     "end_time": "2023-06-10T15:26:29.652781",
     "exception": false,
     "start_time": "2023-06-10T15:26:29.415581",
     "status": "completed"
    },
    "tags": []
   },
   "outputs": [],
   "source": [
    "norm_layer = tf.keras.layers.Normalization(input_shape = X_train.shape[1:])\n",
    "\n",
    "model = tf.keras.Sequential([\n",
    "    norm_layer,\n",
    "    tf.keras.layers.Dense(50 , activation=\"relu\"),\n",
    "    tf.keras.layers.Dense(25 , activation=\"relu\"),\n",
    "    tf.keras.layers.Dense(1),\n",
    "])"
   ]
  },
  {
   "cell_type": "code",
   "execution_count": 10,
   "id": "c092ee3e",
   "metadata": {
    "execution": {
     "iopub.execute_input": "2023-06-10T15:26:29.663540Z",
     "iopub.status.busy": "2023-06-10T15:26:29.663172Z",
     "iopub.status.idle": "2023-06-10T15:26:29.971188Z",
     "shell.execute_reply": "2023-06-10T15:26:29.970239Z"
    },
    "papermill": {
     "duration": 0.316201,
     "end_time": "2023-06-10T15:26:29.973780",
     "exception": false,
     "start_time": "2023-06-10T15:26:29.657579",
     "status": "completed"
    },
    "tags": []
   },
   "outputs": [],
   "source": [
    "optimizer = tf.keras.optimizers.Adam(learning_rate = 0.01)\n",
    "model.compile(loss=\"mse\" , optimizer=optimizer , metrics=[\"RootMeanSquaredError\"])\n",
    "norm_layer.adapt(X_train)"
   ]
  },
  {
   "cell_type": "code",
   "execution_count": 11,
   "id": "412b9d0a",
   "metadata": {
    "execution": {
     "iopub.execute_input": "2023-06-10T15:26:29.985317Z",
     "iopub.status.busy": "2023-06-10T15:26:29.984004Z",
     "iopub.status.idle": "2023-06-10T15:26:32.085134Z",
     "shell.execute_reply": "2023-06-10T15:26:32.083965Z"
    },
    "papermill": {
     "duration": 2.109722,
     "end_time": "2023-06-10T15:26:32.088008",
     "exception": false,
     "start_time": "2023-06-10T15:26:29.978286",
     "status": "completed"
    },
    "tags": []
   },
   "outputs": [
    {
     "name": "stdout",
     "output_type": "stream",
     "text": [
      "Epoch 1/20\n",
      "8/8 [==============================] - 1s 35ms/step - loss: 28079.7402 - root_mean_squared_error: 167.5701 - val_loss: 30413.4941 - val_root_mean_squared_error: 174.3947\n",
      "Epoch 2/20\n",
      "8/8 [==============================] - 0s 6ms/step - loss: 25172.8594 - root_mean_squared_error: 158.6596 - val_loss: 25131.8613 - val_root_mean_squared_error: 158.5303\n",
      "Epoch 3/20\n",
      "8/8 [==============================] - 0s 5ms/step - loss: 18722.1582 - root_mean_squared_error: 136.8289 - val_loss: 15692.7412 - val_root_mean_squared_error: 125.2707\n",
      "Epoch 4/20\n",
      "8/8 [==============================] - 0s 8ms/step - loss: 9402.5996 - root_mean_squared_error: 96.9670 - val_loss: 6386.5073 - val_root_mean_squared_error: 79.9156\n",
      "Epoch 5/20\n",
      "8/8 [==============================] - 0s 7ms/step - loss: 5293.5239 - root_mean_squared_error: 72.7566 - val_loss: 5893.5459 - val_root_mean_squared_error: 76.7694\n",
      "Epoch 6/20\n",
      "8/8 [==============================] - 0s 6ms/step - loss: 5104.5757 - root_mean_squared_error: 71.4463 - val_loss: 4527.5532 - val_root_mean_squared_error: 67.2871\n",
      "Epoch 7/20\n",
      "8/8 [==============================] - 0s 6ms/step - loss: 3713.3569 - root_mean_squared_error: 60.9373 - val_loss: 4632.8726 - val_root_mean_squared_error: 68.0652\n",
      "Epoch 8/20\n",
      "8/8 [==============================] - 0s 6ms/step - loss: 3378.5449 - root_mean_squared_error: 58.1253 - val_loss: 4357.5293 - val_root_mean_squared_error: 66.0116\n",
      "Epoch 9/20\n",
      "8/8 [==============================] - 0s 6ms/step - loss: 3100.9995 - root_mean_squared_error: 55.6866 - val_loss: 4104.6021 - val_root_mean_squared_error: 64.0672\n",
      "Epoch 10/20\n",
      "8/8 [==============================] - 0s 6ms/step - loss: 2978.6196 - root_mean_squared_error: 54.5767 - val_loss: 4015.8542 - val_root_mean_squared_error: 63.3708\n",
      "Epoch 11/20\n",
      "8/8 [==============================] - 0s 6ms/step - loss: 2861.6150 - root_mean_squared_error: 53.4941 - val_loss: 4025.1228 - val_root_mean_squared_error: 63.4439\n",
      "Epoch 12/20\n",
      "8/8 [==============================] - 0s 6ms/step - loss: 2769.6201 - root_mean_squared_error: 52.6272 - val_loss: 4036.7485 - val_root_mean_squared_error: 63.5354\n",
      "Epoch 13/20\n",
      "8/8 [==============================] - 0s 8ms/step - loss: 2711.1177 - root_mean_squared_error: 52.0684 - val_loss: 3988.1558 - val_root_mean_squared_error: 63.1518\n",
      "Epoch 14/20\n",
      "8/8 [==============================] - 0s 6ms/step - loss: 2689.5549 - root_mean_squared_error: 51.8609 - val_loss: 4009.4641 - val_root_mean_squared_error: 63.3203\n",
      "Epoch 15/20\n",
      "8/8 [==============================] - 0s 6ms/step - loss: 2679.4995 - root_mean_squared_error: 51.7639 - val_loss: 3870.4512 - val_root_mean_squared_error: 62.2130\n",
      "Epoch 16/20\n",
      "8/8 [==============================] - 0s 6ms/step - loss: 2573.7063 - root_mean_squared_error: 50.7317 - val_loss: 3943.2808 - val_root_mean_squared_error: 62.7955\n",
      "Epoch 17/20\n",
      "8/8 [==============================] - 0s 7ms/step - loss: 2569.7612 - root_mean_squared_error: 50.6928 - val_loss: 4070.2092 - val_root_mean_squared_error: 63.7982\n",
      "Epoch 18/20\n",
      "8/8 [==============================] - 0s 6ms/step - loss: 2523.0891 - root_mean_squared_error: 50.2304 - val_loss: 3842.4939 - val_root_mean_squared_error: 61.9879\n",
      "Epoch 19/20\n",
      "8/8 [==============================] - 0s 7ms/step - loss: 2517.7339 - root_mean_squared_error: 50.1770 - val_loss: 3895.2007 - val_root_mean_squared_error: 62.4115\n",
      "Epoch 20/20\n",
      "8/8 [==============================] - 0s 6ms/step - loss: 2468.9924 - root_mean_squared_error: 49.6890 - val_loss: 3844.9492 - val_root_mean_squared_error: 62.0077\n",
      "4/4 [==============================] - 0s 2ms/step - loss: 3020.8735 - root_mean_squared_error: 54.9625\n"
     ]
    }
   ],
   "source": [
    "history = model.fit(X_train , y_train , epochs=20 , validation_data = (X_valid , y_valid))\n",
    "mse_test , rmse_test = model.evaluate(X_test , y_test)"
   ]
  },
  {
   "cell_type": "code",
   "execution_count": 12,
   "id": "50859d7d",
   "metadata": {
    "execution": {
     "iopub.execute_input": "2023-06-10T15:26:32.105875Z",
     "iopub.status.busy": "2023-06-10T15:26:32.105490Z",
     "iopub.status.idle": "2023-06-10T15:26:32.112433Z",
     "shell.execute_reply": "2023-06-10T15:26:32.111556Z"
    },
    "papermill": {
     "duration": 0.018552,
     "end_time": "2023-06-10T15:26:32.114768",
     "exception": false,
     "start_time": "2023-06-10T15:26:32.096216",
     "status": "completed"
    },
    "tags": []
   },
   "outputs": [
    {
     "data": {
      "text/plain": [
       "(3020.87353515625, 54.96247482299805)"
      ]
     },
     "execution_count": 12,
     "metadata": {},
     "output_type": "execute_result"
    }
   ],
   "source": [
    "mse_test , rmse_test"
   ]
  },
  {
   "cell_type": "markdown",
   "id": "31c9b6fd",
   "metadata": {
    "papermill": {
     "duration": 0.007587,
     "end_time": "2023-06-10T15:26:32.130398",
     "exception": false,
     "start_time": "2023-06-10T15:26:32.122811",
     "status": "completed"
    },
    "tags": []
   },
   "source": [
    "# **Linear Regression**"
   ]
  },
  {
   "cell_type": "code",
   "execution_count": 13,
   "id": "b404e981",
   "metadata": {
    "execution": {
     "iopub.execute_input": "2023-06-10T15:26:32.148704Z",
     "iopub.status.busy": "2023-06-10T15:26:32.148072Z",
     "iopub.status.idle": "2023-06-10T15:26:32.295003Z",
     "shell.execute_reply": "2023-06-10T15:26:32.293028Z"
    },
    "papermill": {
     "duration": 0.158928,
     "end_time": "2023-06-10T15:26:32.297481",
     "exception": false,
     "start_time": "2023-06-10T15:26:32.138553",
     "status": "completed"
    },
    "tags": []
   },
   "outputs": [
    {
     "name": "stdout",
     "output_type": "stream",
     "text": [
      "Root mean squared error of the Model: 53.369566710321955\n"
     ]
    }
   ],
   "source": [
    "from sklearn.linear_model import LinearRegression\n",
    "from sklearn.metrics import mean_squared_error\n",
    "\n",
    "X_train , X_test , y_train , y_test = train_test_split(X , y , random_state=42)\n",
    "reg = LinearRegression()\n",
    "reg.fit(X_train ,y_train)\n",
    "y_pred = reg.predict(X_test)\n",
    "\n",
    "print(f\"Root mean squared error of the Model: {np.sqrt(mean_squared_error(y_pred , y_test))}\")"
   ]
  },
  {
   "cell_type": "markdown",
   "id": "9d3fbe1b",
   "metadata": {
    "papermill": {
     "duration": 0.007421,
     "end_time": "2023-06-10T15:26:32.312883",
     "exception": false,
     "start_time": "2023-06-10T15:26:32.305462",
     "status": "completed"
    },
    "tags": []
   },
   "source": [
    "**Comparing to traditional linear approach MLP  performs slightly worse , this is because we only have 442 instances in the dataset . For large datasets Multi Layer Perceptrons scale well than other ML models**"
   ]
  }
 ],
 "metadata": {
  "kernelspec": {
   "display_name": "Python 3",
   "language": "python",
   "name": "python3"
  },
  "language_info": {
   "codemirror_mode": {
    "name": "ipython",
    "version": 3
   },
   "file_extension": ".py",
   "mimetype": "text/x-python",
   "name": "python",
   "nbconvert_exporter": "python",
   "pygments_lexer": "ipython3",
   "version": "3.10.10"
  },
  "papermill": {
   "default_parameters": {},
   "duration": 26.472087,
   "end_time": "2023-06-10T15:26:35.180227",
   "environment_variables": {},
   "exception": null,
   "input_path": "__notebook__.ipynb",
   "output_path": "__notebook__.ipynb",
   "parameters": {},
   "start_time": "2023-06-10T15:26:08.708140",
   "version": "2.4.0"
  }
 },
 "nbformat": 4,
 "nbformat_minor": 5
}
